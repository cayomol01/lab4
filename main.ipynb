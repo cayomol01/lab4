{
 "cells": [
  {
   "cell_type": "code",
   "execution_count": 30,
   "metadata": {},
   "outputs": [],
   "source": [
    "import numpy as np\n",
    "import matplotlib.pyplot as plt\n",
    "%matplotlib inline\n",
    "from logistic_reg import *"
   ]
  },
  {
   "attachments": {},
   "cell_type": "markdown",
   "metadata": {},
   "source": [
    "# Task 1"
   ]
  },
  {
   "cell_type": "code",
   "execution_count": 32,
   "metadata": {},
   "outputs": [],
   "source": [
    "clean_data = np.genfromtxt('framingham.csv', delimiter=',',usecols=(0,1,3,4,5,6, 7, 8, 9, 10, 11, 12, 13, 14, 15), skip_header=True)\n",
    "mean = np.nanmean(clean_data, axis=0)\t# Calculate mean of each column\n",
    "nan_indices = np.where(np.isnan(clean_data))\n",
    "clean_data[nan_indices] = 0\n",
    "\n",
    "\n",
    "\n",
    "\n",
    "\n"
   ]
  },
  {
   "attachments": {},
   "cell_type": "markdown",
   "metadata": {},
   "source": [
    "# Task 2"
   ]
  },
  {
   "cell_type": "code",
   "execution_count": 33,
   "metadata": {},
   "outputs": [],
   "source": [
    "np.random.seed(13)\n",
    "np.random.shuffle(clean_data)"
   ]
  },
  {
   "cell_type": "code",
   "execution_count": 42,
   "metadata": {},
   "outputs": [],
   "source": [
    "data = clean_data.copy()\n",
    "\n",
    "\n",
    "for i in range(data.shape[1] - 1):\n",
    "    data[:, i] = (data[:, i] - np.mean(data[:, i])) / np.std(data[:, i])\n",
    "train_data = data[:int(0.6*len(data))]\n",
    "test_data = data[int(0.6*len(data)):]\n",
    "\n",
    "\n",
    "\n",
    "X_train = train_data[:, :-1]\n",
    "y_train = train_data[:, -1].reshape(train_data.shape[0], 1)\n",
    "X_test  = test_data[:, :-1]\n",
    "y_test = test_data[:, -1].reshape(test_data.shape[0], 1)\n",
    "\n",
    "\n",
    "\n",
    "\n",
    "theta = np.zeros((X_train.shape[1], 1))\n",
    "theta, costs, thetas = Descent(X_train, y_train, theta)\n",
    "\n",
    "\n",
    "\n",
    "\n"
   ]
  },
  {
   "attachments": {},
   "cell_type": "markdown",
   "metadata": {},
   "source": [
    "# Task 3"
   ]
  },
  {
   "cell_type": "code",
   "execution_count": 43,
   "metadata": {},
   "outputs": [
    {
     "name": "stdout",
     "output_type": "stream",
     "text": [
      "Accuracy:  0.6226415094339622\n",
      "Precision:  0.23333333333333334\n"
     ]
    }
   ],
   "source": [
    "\n",
    "y_pred = Sigmoid(theta, X_test)\n",
    "y_pred = np.where(y_pred > 0.5, 1, 0)\n",
    "y_pred\n",
    "\n",
    "\n",
    "print(\"Accuracy: \", np.sum(y_pred == y_test) / len(y_test))\n",
    "print(\"Precision: \", np.sum(y_pred[y_pred == 1] == y_test[y_pred == 1]) / np.sum(y_pred == 1))"
   ]
  },
  {
   "attachments": {},
   "cell_type": "markdown",
   "metadata": {},
   "source": [
    "# Task 4"
   ]
  },
  {
   "cell_type": "code",
   "execution_count": 44,
   "metadata": {},
   "outputs": [
    {
     "name": "stdout",
     "output_type": "stream",
     "text": [
      "\n",
      "Accuracy:  0.858041683051514\n",
      "Precision:  0.6129032258064516\n"
     ]
    }
   ],
   "source": [
    "\n",
    "\n",
    "new_data = clean_data.copy()\n",
    "new_data = new_data**2\n",
    "\n",
    "#Normalizar la data: https://www.vosesoftware.com/riskwiki/Normalizedmeasuresofspread-theCofV.php#:~:text=A%20useful%20example%20of%20this,a%20fraction%20of%20its%20mean.\n",
    "for i in range(new_data.shape[1] - 1):\n",
    "    new_data[:, i] = (new_data[:, i] - np.mean(new_data[:, i])) / np.std(new_data[:, i])\n",
    "\n",
    "\n",
    "new_data = np.hstack((np.ones((new_data.shape[0], 1)), new_data))\n",
    "train_data = new_data[:int(0.4*len(new_data))]\n",
    "test_data = new_data[int(0.4*len(new_data)):]\n",
    "\n",
    "X = train_data[:, :-1]\n",
    "y = train_data[:, -1].reshape(train_data.shape[0], 1)\n",
    "\n",
    "\n",
    "theta = np.zeros((X.shape[1], 1))\n",
    "theta, costs, thetas = Descent(X, y, theta)\n",
    "\n",
    "\n",
    "X_test = test_data[:, :-1]\n",
    "y_test = test_data[:, -1].reshape(test_data.shape[0], 1)\n",
    "\n",
    "y_pred = Sigmoid(theta, X_test)\n",
    "y_pred = np.where(y_pred > 0.5, 1, 0)\n",
    "\n",
    "print(\"\\nAccuracy: \", np.sum(y_pred == y_test) / len(y_test))\n",
    "print(\"Precision: \", np.sum(y_pred[y_pred == 1] == y_test[y_pred == 1]) / np.sum(y_pred == 1))"
   ]
  },
  {
   "cell_type": "code",
   "execution_count": 46,
   "metadata": {},
   "outputs": [],
   "source": [
    "degrees = [1,2, 3, 4, 5]\n",
    "\n",
    "\n",
    "t_l = []\n",
    "cv_l = []\n",
    "\n",
    "\n",
    "train_accuracies = []\n",
    "train_precisions = []\n",
    "cv_accuracies = []\n",
    "cv_precisions = []\n",
    "\n",
    "    \n",
    "for degree in degrees:\n",
    "    a = clean_data.copy()\n",
    "    \n",
    "    a = a**degree\n",
    "\n",
    "    for i in range(a.shape[1] - 1):\n",
    "\n",
    "        a[:, i] = (a[:, i] - np.mean(a[:, i])) / np.std(a[:, i])\n",
    "        \n",
    "    a = np.hstack((np.ones((a.shape[0], 1)), a))\n",
    "    \n",
    "    train_data = a[:int(0.5*len(a))]\n",
    "    cv_data = a[int(0.5*len(a)):int(0.7*len(a))]\n",
    "    test_data = a[int(0.7*len(a)):]\n",
    "\n",
    "    X = train_data[:, :-1]\n",
    "    y = train_data[:, -1].reshape(train_data.shape[0], 1)\n",
    "\n",
    "\n",
    "    theta_0 = np.zeros((X.shape[1], 1))\n",
    "    \n",
    "    theta, costs, thetas = Descent(X, y, theta_0)\n",
    "    t_l.append(costs[-1])\n",
    "\n",
    "\n",
    "    # Predict the test data\n",
    "    X_test = test_data[:, :-1]\n",
    "    y_test = test_data[:, -1].reshape(test_data.shape[0], 1)\n",
    "\n",
    "    y_pred = Sigmoid(theta, X_test)\n",
    "    y_pred = np.where(y_pred > 0.5, 1, 0)\n",
    "    # Accuracy and precision\n",
    "    train_accuracies.append(np.sum(y_pred == y_test) / len(y_test))\n",
    "    train_precisions.append(np.sum(y_pred[y_pred == 1] == y_test[y_pred == 1]) / np.sum(y_pred == 1)) \n",
    "    \n",
    "    cv_x = cv_data[:, :-1]\n",
    "    cv_y = cv_data[:, -1].reshape(cv_data.shape[0], 1)\n",
    "    \n",
    "    theta, costs, thetas = Descent(cv_x, cv_y, theta_0)\n",
    "    cv_l.append(costs[-1])\n",
    "    \n",
    "    y_pred = Sigmoid(theta, X_test)\n",
    "    y_pred = np.where(y_pred > 0.5, 1, 0)\n",
    "    \n",
    "    cv_accuracies.append(np.sum(y_pred == y_test) / len(y_test))\n",
    "    cv_precisions.append(np.sum(y_pred[y_pred == 1] == y_test[y_pred == 1]) / np.sum(y_pred == 1)) \n",
    "    \n",
    "    \n",
    "plt.plot(degrees, t_l, label='train')\n",
    "plt.plot(degrees, cv_l, label='validation')\n",
    "plt.legend()\n",
    "plt.xlabel('polynomial degree')\n",
    "plt.ylabel('accuracy')\n",
    "plt.show()\n",
    "    \n",
    "best_degree = degrees[np.argmax(train_accuracies)]\n",
    "\n",
    "new_data = new_data**best_degree\n",
    "for i in range(new_data.shape[1] - 1):\n",
    "    new_data[:, i] = (new_data[:, i] - np.mean(new_data[:, i])) / np.std(new_data[:, i])\n",
    "\n",
    "\n",
    "new_data = np.hstack((np.ones((new_data.shape[0], 1)), new_data))\n",
    "train_data = new_data[:int(0.6*len(new_data))]\n",
    "test_data = new_data[int(0.6*len(new_data)):]\n",
    "\n",
    "X = train_data[:, :-1]\n",
    "y = train_data[:, -1].reshape(train_data.shape[0], 1)\n",
    "\n",
    "\n",
    "theta = np.ones((X.shape[1], 1))\n",
    "theta, costs, thetas = Descent(X, y, theta)\n",
    "\n",
    "\n",
    "X_test = test_data[:, :-1]\n",
    "y_test = test_data[:, -1].reshape(test_data.shape[0], 1)\n",
    "\n",
    "y_pred = Sigmoid(theta, X_test)\n",
    "y_pred = np.where(y_pred > 0.5, 1, 0)\n",
    "\n",
    "print(f\"\\nBest degree: {best_degree}\")\n",
    "print(\"\\nAccuracy: \", np.sum(y_pred == y_test) / len(y_test))\n",
    "print(\"Precision: \", np.sum(y_pred[y_pred == 1] == y_test[y_pred == 1]) / np.sum(y_pred == 1))\n",
    "\n",
    "\n",
    "\n"
   ]
  },
  {
   "attachments": {},
   "cell_type": "markdown",
   "metadata": {},
   "source": [
    "# Task 5"
   ]
  },
  {
   "attachments": {},
   "cell_type": "markdown",
   "metadata": {},
   "source": [
    "Al analizar el mejor resultado nos podemos dar cuenta que el grado de polinomio que mejor se ajusta al modelo es el de 2. Al usar este grado, obtenemos un Accuracy de 0.85 aproximadamente y una precisión de 0.61 aproximadamente lo cual nos dice que es un buen modelo predictor para este set de datos. Sin embargo, se puede decir que la precisión podría estar más alta para saber que se puede obtener un mejor resultado aún y tener un mejor modelo. "
   ]
  }
 ],
 "metadata": {
  "kernelspec": {
   "display_name": "Python 3",
   "language": "python",
   "name": "python3"
  },
  "language_info": {
   "codemirror_mode": {
    "name": "ipython",
    "version": 3
   },
   "file_extension": ".py",
   "mimetype": "text/x-python",
   "name": "python",
   "nbconvert_exporter": "python",
   "pygments_lexer": "ipython3",
   "version": "3.10.0"
  },
  "orig_nbformat": 4,
  "vscode": {
   "interpreter": {
    "hash": "7613b7b53fe3c82445b170b325c95c9a1fab3349f6dbf0989ede3d2322ba93e2"
   }
  }
 },
 "nbformat": 4,
 "nbformat_minor": 2
}
